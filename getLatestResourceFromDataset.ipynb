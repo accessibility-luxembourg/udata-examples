{
 "cells": [
  {
   "cell_type": "markdown",
   "metadata": {},
   "source": [
    "# Get the latest resource from a given dataset on data.public.lu\n",
    "\n",
    "Let's suppose that you need to download the latest resource from a dataset every month. This file will then be imported into your database. With the API available on data.public.lu, you can automate this download. \n",
    "\n",
    "Let's initialise some stuff:"
   ]
  },
  {
   "cell_type": "code",
   "execution_count": 29,
   "metadata": {},
   "outputs": [],
   "source": [
    "import requests, re, os\n",
    "from dotenv import load_dotenv \n",
    "load_dotenv()\n",
    "API = os.environ.get('API')\n",
    "API_KEY = os.environ.get('API_KEY')\n",
    "headers = {'X-API-KEY': API_KEY}"
   ]
  },
  {
   "cell_type": "markdown",
   "metadata": {},
   "source": [
    "## Parameters\n",
    "\n",
    "Here we need to set the identifier of the dataset. You can for example find it in the url of a given dataset.\n",
    "In a dataset, the data producers can put different kind of files. Some of them even put the documentation as a resource. In this case, it can be helpful to filter the resources based on a regular expression. "
   ]
  },
  {
   "cell_type": "code",
   "execution_count": 30,
   "metadata": {},
   "outputs": [],
   "source": [
    "# the id of the Dataset you want to get\n",
    "dataset = 'parc-automobile-du-luxembourg'\n",
    "\n",
    "# the pattern matching the names of the files that can be downloaded\n",
    "fPattern = '^Parc_Automobile_\\\\d{6}.xlsx$'"
   ]
  },
  {
   "cell_type": "markdown",
   "metadata": {},
   "source": [
    "## Find the right resource\n",
    "\n",
    "Here we call the API to get all the info about a dataset. This info contains the list of resources of this dataset. We filter these resources to keep only the ones matching the previously defined pattern and we sort them by publication date. \n",
    "The first resource of this list is thus the latest one and we can proceed to download it."
   ]
  },
  {
   "cell_type": "code",
   "execution_count": 31,
   "metadata": {},
   "outputs": [],
   "source": [
    "r = requests.get('{}/datasets/{}/'.format(API, dataset), headers=headers)\n",
    "r.raise_for_status()\n",
    "\n",
    "resources = r.json()['resources']\n",
    "resources = list(filter(lambda x: re.search(fPattern, x['title']), resources))\n",
    "resources.sort(key=lambda x: x['published'], reverse=True)"
   ]
  },
  {
   "cell_type": "markdown",
   "metadata": {},
   "source": [
    "## Download the file\n",
    "\n",
    "When the resource has been found, we have its URL on data.public.lu. We download the file and store it in the current folder."
   ]
  },
  {
   "cell_type": "code",
   "execution_count": 32,
   "metadata": {},
   "outputs": [
    {
     "name": "stdout",
     "output_type": "stream",
     "text": [
      "Downloading: Parc_Automobile_202207.xlsx\n",
      "Downloaded!\n"
     ]
    }
   ],
   "source": [
    "if resources:\n",
    "    print('Downloading: '+ resources[0]['title'])\n",
    "    s = requests.get(resources[0]['url'], headers=headers)\n",
    "    s.raise_for_status()\n",
    "    with open(resources[0]['title'], 'wb') as f:\n",
    "        f.write(s.content)\n",
    "    print('Downloaded!')\n",
    "\n"
   ]
  }
 ],
 "metadata": {
  "kernelspec": {
   "display_name": "Python 3.9.0 64-bit",
   "language": "python",
   "name": "python3"
  },
  "language_info": {
   "codemirror_mode": {
    "name": "ipython",
    "version": 3
   },
   "file_extension": ".py",
   "mimetype": "text/x-python",
   "name": "python",
   "nbconvert_exporter": "python",
   "pygments_lexer": "ipython3",
   "version": "3.9.0"
  },
  "orig_nbformat": 4,
  "vscode": {
   "interpreter": {
    "hash": "e37cc2c2264503566e4bfd424ab77f42b2feceec95b1f33bb585b1d26fea0eb1"
   }
  }
 },
 "nbformat": 4,
 "nbformat_minor": 2
}
