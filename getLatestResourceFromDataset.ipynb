{
 "cells": [
  {
   "cell_type": "markdown",
   "metadata": {},
   "source": [
    "# Get the latest resource from a given dataset on data.public.lu\n",
    "\n",
    "Let's suppose that you need to download the latest resource from a dataset every month. This file will then be imported into your database. With the API available on data.public.lu, you can automate this download. \n",
    "\n",
    "Let's initialise some stuff:"
   ]
  },
  {
   "cell_type": "code",
   "execution_count": 39,
   "metadata": {},
   "outputs": [],
   "source": [
    "import requests, re, os\n",
    "from dotenv import load_dotenv \n",
    "load_dotenv()\n",
    "API = os.environ.get('API')"
   ]
  },
  {
   "cell_type": "markdown",
   "metadata": {},
   "source": [
    "## Parameters\n",
    "\n",
    "Here we need to set the identifier of the dataset. You can for example find it in the url of a given dataset.\n",
    "In a dataset, the data producers can put different kind of files. Some of them even put the documentation as a resource. In this case, it can be helpful to filter the resources based on a regular expression. "
   ]
  },
  {
   "cell_type": "code",
   "execution_count": 40,
   "metadata": {},
   "outputs": [],
   "source": [
    "# the id of the Dataset you want to get\n",
    "dataset = 'parc-automobile-du-luxembourg'\n",
    "\n",
    "# the pattern matching the names of the files that can be downloaded\n",
    "fPattern = '^Parc_Automobile_\\\\d{6}.xlsx$'"
   ]
  },
  {
   "cell_type": "markdown",
   "metadata": {},
   "source": [
    "## Find the right resource\n",
    "\n",
    "Here we call the API to get all the info about a dataset. This info contains the list of resources of this dataset. We filter these resources to keep only the ones matching the previously defined pattern and we sort them by publication date. \n",
    "The first resource of this list is thus the latest one and we can proceed to download it."
   ]
  },
  {
   "cell_type": "code",
   "execution_count": 41,
   "metadata": {},
   "outputs": [
    {
     "name": "stdout",
     "output_type": "stream",
     "text": [
      "files available in the dataset with id \"parc-automobile-du-luxembourg\" and matching the pattern /^Parc_Automobile_\\d{6}.xlsx$/:\n",
      "['Parc_Automobile_202206.xlsx', 'Parc_Automobile_202205.xlsx', 'Parc_Automobile_202204.xlsx', 'Parc_Automobile_202203.xlsx', 'Parc_Automobile_202202.xlsx', 'Parc_Automobile_202201.xlsx', 'Parc_Automobile_202112.xlsx', 'Parc_Automobile_202111.xlsx', 'Parc_Automobile_202110.xlsx', 'Parc_Automobile_202109.xlsx', 'Parc_Automobile_202108.xlsx', 'Parc_Automobile_202107.xlsx', 'Parc_Automobile_202106.xlsx', 'Parc_Automobile_202105.xlsx', 'Parc_Automobile_202104.xlsx', 'Parc_Automobile_202103.xlsx', 'Parc_Automobile_202102.xlsx', 'Parc_Automobile_202101.xlsx', 'Parc_Automobile_202012.xlsx', 'Parc_Automobile_202011.xlsx', 'Parc_Automobile_202010.xlsx', 'Parc_Automobile_202009.xlsx', 'Parc_Automobile_202008.xlsx', 'Parc_Automobile_202007.xlsx', 'Parc_Automobile_202006.xlsx', 'Parc_Automobile_202005.xlsx', 'Parc_Automobile_202004.xlsx', 'Parc_Automobile_202003.xlsx', 'Parc_Automobile_202002.xlsx', 'Parc_Automobile_202001.xlsx', 'Parc_Automobile_201912.xlsx', 'Parc_Automobile_201911.xlsx', 'Parc_Automobile_201909.xlsx', 'Parc_Automobile_201908.xlsx', 'Parc_Automobile_201907.xlsx', 'Parc_Automobile_201906.xlsx', 'Parc_Automobile_201905.xlsx', 'Parc_Automobile_201904.xlsx', 'Parc_Automobile_201903.xlsx', 'Parc_Automobile_201902.xlsx', 'Parc_Automobile_201901.xlsx', 'Parc_Automobile_201812.xlsx', 'Parc_Automobile_201811.xlsx', 'Parc_Automobile_201810.xlsx', 'Parc_Automobile_201809.xlsx', 'Parc_Automobile_201808.xlsx', 'Parc_Automobile_201807.xlsx', 'Parc_Automobile_201806.xlsx', 'Parc_Automobile_201805.xlsx', 'Parc_Automobile_201804.xlsx', 'Parc_Automobile_201803.xlsx', 'Parc_Automobile_201802.xlsx', 'Parc_Automobile_201801.xlsx', 'Parc_Automobile_201712.xlsx', 'Parc_Automobile_201711.xlsx', 'Parc_Automobile_201710.xlsx']\n"
     ]
    }
   ],
   "source": [
    "r = requests.get('{}/datasets/{}/'.format(API, dataset))\n",
    "r.raise_for_status()\n",
    "\n",
    "resources = r.json()['resources']\n",
    "resources = list(filter(lambda x: re.search(fPattern, x['title']), resources))\n",
    "resources.sort(key=lambda x: x['published'], reverse=True)\n",
    "print('files available in the dataset with id \"{}\" and matching the pattern /{}/:'.format(dataset, fPattern))\n",
    "print(list(map(lambda x: x['title'], resources)))"
   ]
  },
  {
   "cell_type": "markdown",
   "metadata": {},
   "source": [
    "## Download the file\n",
    "\n",
    "When the resource has been found, we have its URL on data.public.lu. We download the file and store it in the current folder."
   ]
  },
  {
   "cell_type": "code",
   "execution_count": 38,
   "metadata": {},
   "outputs": [
    {
     "name": "stdout",
     "output_type": "stream",
     "text": [
      "Downloading: Parc_Automobile_202206.xlsx\n",
      "Downloaded!\n"
     ]
    }
   ],
   "source": [
    "if resources:\n",
    "    print('Downloading: '+ resources[0]['title'])\n",
    "    s = requests.get(resources[0]['url'])\n",
    "    s.raise_for_status()\n",
    "    with open(resources[0]['title'], 'wb') as f:\n",
    "        f.write(s.content)\n",
    "    print('Downloaded!')\n",
    "\n"
   ]
  }
 ],
 "metadata": {
  "kernelspec": {
   "display_name": "Python 3.9.0 64-bit",
   "language": "python",
   "name": "python3"
  },
  "language_info": {
   "codemirror_mode": {
    "name": "ipython",
    "version": 3
   },
   "file_extension": ".py",
   "mimetype": "text/x-python",
   "name": "python",
   "nbconvert_exporter": "python",
   "pygments_lexer": "ipython3",
   "version": "3.9.0 (tags/v3.9.0:9cf6752, Oct  5 2020, 15:34:40) [MSC v.1927 64 bit (AMD64)]"
  },
  "orig_nbformat": 4,
  "vscode": {
   "interpreter": {
    "hash": "e37cc2c2264503566e4bfd424ab77f42b2feceec95b1f33bb585b1d26fea0eb1"
   }
  }
 },
 "nbformat": 4,
 "nbformat_minor": 2
}
