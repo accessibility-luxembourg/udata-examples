{
 "cells": [
  {
   "cell_type": "markdown",
   "metadata": {},
   "source": [
    "# Add a resource to a dataset using the API of data.public.lu\n",
    "\n",
    "Let's suppose you have created a dataset on data.public.lu and you want to automate the upload of a new file to this dataset regularly. You can use the [API of data.public.lu](https://data.public.lu/en/docapi/) to do this. This code example will show you how to do it with a few lines of Python.\n",
    "Please set the API and API_KEY variables in a .env file by following the .env.example template. Your API key can be found in the parameters of your profile on data.public.lu (you need to be logged in).\n",
    "\n",
    "\n",
    "We first initialise some stuff:"
   ]
  },
  {
   "cell_type": "code",
   "execution_count": 5,
   "metadata": {},
   "outputs": [],
   "source": [
    "import requests, os\n",
    "from dotenv import load_dotenv \n",
    "load_dotenv()\n",
    "API = os.environ.get('API')\n",
    "API_KEY = os.environ.get('API_KEY')\n",
    "HEADERS = {\n",
    "    'X-API-KEY': API_KEY,\n",
    "}\n",
    "def api_url(path):\n",
    "    return ''.join((API, path))"
   ]
  },
  {
   "cell_type": "markdown",
   "metadata": {},
   "source": [
    "## Parameters\n",
    "\n",
    "Here you can set the various parameters needed to upload the file. What is its file name, what is the identifier of the dataset, which title and description for the file do you want to appear on data.public.lu?\n",
    "You can find the identifier of a dataset in its URL in the admin of data.public.lu. \n",
    "Example: `https://data.public.lu/en/admin/dataset/62cd83713b7a46d9f111aac5/` the identifier of this dataset is 62cd83713b7a46d9f111aac5"
   ]
  },
  {
   "cell_type": "code",
   "execution_count": 6,
   "metadata": {},
   "outputs": [],
   "source": [
    "# Id of the dataset where a resource should be updated\n",
    "dataset = '62cd83713b7a46d9f111aac5'\n",
    "\n",
    "# name of the file to be uploaded\n",
    "filename = 'example.csv'\n",
    "\n",
    "# title / description of the resource, to be displayed on the Open Data Portal\n",
    "title = 'a really cool test resource'\n",
    "description = 'this is a test!'\n"
   ]
  },
  {
   "cell_type": "markdown",
   "metadata": {},
   "source": [
    "## Upload the file\n",
    "\n",
    "Here we execute a POST request to upload the file as a new resource on the given dataset. The response is a json payload where we can find the ID of the newly created resource."
   ]
  },
  {
   "cell_type": "code",
   "execution_count": 7,
   "metadata": {},
   "outputs": [],
   "source": [
    "url = api_url('/datasets/{}/upload/'.format(dataset))\n",
    "response = requests.post(url, files={\n",
    "    'file': open('./'+filename, 'rb'),\n",
    "}, headers=HEADERS)\n",
    "response.raise_for_status()\n",
    "resource = response.json()['id']"
   ]
  },
  {
   "cell_type": "markdown",
   "metadata": {},
   "source": [
    "## Update metadata\n",
    "\n",
    "Now that the file has been uploaded, we would like to update the associated metadata, like the title and the description which are displayed on every resource on data.public.lu. This is especially important if the name of your file is not really explicit."
   ]
  },
  {
   "cell_type": "code",
   "execution_count": 8,
   "metadata": {},
   "outputs": [],
   "source": [
    "url = api_url('/datasets/{}/resources/{}/'.format(dataset, resource))\n",
    "response = requests.put(url, json={\n",
    "    'title': title,\n",
    "    'description': description,\n",
    "}, headers=HEADERS)\n",
    "response.raise_for_status()"
   ]
  }
 ],
 "metadata": {
  "kernelspec": {
   "display_name": "Python 3.9.0 64-bit",
   "language": "python",
   "name": "python3"
  },
  "language_info": {
   "codemirror_mode": {
    "name": "ipython",
    "version": 3
   },
   "file_extension": ".py",
   "mimetype": "text/x-python",
   "name": "python",
   "nbconvert_exporter": "python",
   "pygments_lexer": "ipython3",
   "version": "3.9.0"
  },
  "orig_nbformat": 4,
  "vscode": {
   "interpreter": {
    "hash": "e37cc2c2264503566e4bfd424ab77f42b2feceec95b1f33bb585b1d26fea0eb1"
   }
  }
 },
 "nbformat": 4,
 "nbformat_minor": 2
}
